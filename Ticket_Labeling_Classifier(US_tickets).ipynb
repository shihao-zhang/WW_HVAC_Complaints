{
 "cells": [
  {
   "cell_type": "code",
   "execution_count": 6,
   "metadata": {},
   "outputs": [
    {
     "data": {
      "text/plain": [
       "'\\nAUTHOR: Shihao Zhang\\nDate: 10/24/2018\\n\\nWhat is this script for?\\nThis script can process raw data from ZenDesk by:\\n1. Train classifiers with labeled HVAC tickets\\n2. Classify tickets without label\\n\\nHow to use this script?\\nPrepare a excel file. Here is the preparation instruction:\\n1. \\n\\nPackage required:\\npandas, numpy, skilearn\\n'"
      ]
     },
     "execution_count": 6,
     "metadata": {},
     "output_type": "execute_result"
    }
   ],
   "source": [
    "\"\"\"\n",
    "AUTHOR: Shihao Zhang\n",
    "Date: 10/24/2018\n",
    "\n",
    "What is this script for?\n",
    "This script can process raw data from ZenDesk by:\n",
    "1. Train classifiers with labeled HVAC tickets\n",
    "2. Classify tickets without label\n",
    "\n",
    "How to use this script?\n",
    "Prepare a excel file. Here is the preparation instruction:\n",
    "1. \n",
    "\n",
    "Package required:\n",
    "pandas, numpy, skilearn\n",
    "\"\"\"\n",
    "\n",
    "# Itâ€™s --> It's"
   ]
  },
  {
   "cell_type": "code",
   "execution_count": 7,
   "metadata": {},
   "outputs": [],
   "source": [
    "import pandas as pd\n",
    "import numpy as np\n",
    "import datetime as dt\n",
    "\"\"\"\n",
    "USER INPUT\n",
    "\"\"\"\n",
    "path1=\"tickets(USWEST_2018Oct29).csv\" \n",
    "path2=\"tickets(US_2018Oct29).csv\"\n",
    "path3=\"tickets(UK_2018Oct29).csv\"\n",
    "path4=\"tickets(AU_2018Oct29).csv\"\n",
    "\n",
    "path_train =  path3\n",
    "cols_train = [ \"Created\",\"Description\",\"Label\",\"Requester_Name\",'Assignee_Name']\n"
   ]
  },
  {
   "cell_type": "code",
   "execution_count": 8,
   "metadata": {},
   "outputs": [],
   "source": [
    "table = {\"air_flow1\": 0,\"cold_issue\":1, \"heat_issue\":2,  \"noise_issue\":3, \"unit_leaking1\": 4}\n",
    "table_reverse = {0: \"air_flow1\", 1: \"cold_issue\", 2: \"heat_issue\", 3: \"noise_issue\", 4: \"unit_leaking1\"}"
   ]
  },
  {
   "cell_type": "code",
   "execution_count": 9,
   "metadata": {},
   "outputs": [],
   "source": [
    "pd.set_option('display.max_rows', 25)\n",
    "#pd.set_option('max_colwidth',40)\n",
    "import warnings\n",
    "warnings.filterwarnings(\"ignore\", category=FutureWarning)"
   ]
  },
  {
   "cell_type": "code",
   "execution_count": 10,
   "metadata": {},
   "outputs": [
    {
     "data": {
      "text/html": [
       "<div>\n",
       "<style scoped>\n",
       "    .dataframe tbody tr th:only-of-type {\n",
       "        vertical-align: middle;\n",
       "    }\n",
       "\n",
       "    .dataframe tbody tr th {\n",
       "        vertical-align: top;\n",
       "    }\n",
       "\n",
       "    .dataframe thead th {\n",
       "        text-align: right;\n",
       "    }\n",
       "</style>\n",
       "<table border=\"1\" class=\"dataframe\">\n",
       "  <thead>\n",
       "    <tr style=\"text-align: right;\">\n",
       "      <th></th>\n",
       "      <th>Requester_Name</th>\n",
       "      <th>Assignee_Name</th>\n",
       "      <th>Created</th>\n",
       "      <th>Description</th>\n",
       "      <th>Label</th>\n",
       "      <th>Label_id</th>\n",
       "    </tr>\n",
       "  </thead>\n",
       "  <tbody>\n",
       "    <tr>\n",
       "      <th>0</th>\n",
       "      <td>Daniel Jones</td>\n",
       "      <td>Erik Hal.</td>\n",
       "      <td>10/30/2018, 1:09:00 AM</td>\n",
       "      <td>Heat up please. Again, very cold in here</td>\n",
       "      <td>cold_issue</td>\n",
       "      <td>1</td>\n",
       "    </tr>\n",
       "    <tr>\n",
       "      <th>1</th>\n",
       "      <td>Sarah OSullivan</td>\n",
       "      <td>WeWork Community team at 138 Holborn</td>\n",
       "      <td>10/30/2018, 1:28:08 AM</td>\n",
       "      <td>Good morning, I'd like to put in a request to ...</td>\n",
       "      <td>cold_issue</td>\n",
       "      <td>1</td>\n",
       "    </tr>\n",
       "    <tr>\n",
       "      <th>2</th>\n",
       "      <td>Olga Albiero</td>\n",
       "      <td>Erik Hal.</td>\n",
       "      <td>10/30/2018, 1:33:16 AM</td>\n",
       "      <td>Hello,\\n\\nit is me again. Could you please swi...</td>\n",
       "      <td>cold_issue</td>\n",
       "      <td>1</td>\n",
       "    </tr>\n",
       "    <tr>\n",
       "      <th>3</th>\n",
       "      <td>Matiss Kovalevskis</td>\n",
       "      <td>WeWork Community team at Iveagh Court</td>\n",
       "      <td>10/30/2018, 1:34:16 AM</td>\n",
       "      <td>Hello Team,\\n\\nWould you please be so kind and...</td>\n",
       "      <td>cold_issue</td>\n",
       "      <td>1</td>\n",
       "    </tr>\n",
       "    <tr>\n",
       "      <th>4</th>\n",
       "      <td>Jo Kendall</td>\n",
       "      <td>WeWork Community team at 1 Primrose St</td>\n",
       "      <td>10/30/2018, 1:35:21 AM</td>\n",
       "      <td>Hi Holly\\nSo sorry to ask again but some of th...</td>\n",
       "      <td>cold_issue</td>\n",
       "      <td>1</td>\n",
       "    </tr>\n",
       "  </tbody>\n",
       "</table>\n",
       "</div>"
      ],
      "text/plain": [
       "       Requester_Name                           Assignee_Name  \\\n",
       "0        Daniel Jones                               Erik Hal.   \n",
       "1     Sarah OSullivan    WeWork Community team at 138 Holborn   \n",
       "2        Olga Albiero                               Erik Hal.   \n",
       "3  Matiss Kovalevskis   WeWork Community team at Iveagh Court   \n",
       "4          Jo Kendall  WeWork Community team at 1 Primrose St   \n",
       "\n",
       "                  Created                                        Description  \\\n",
       "0  10/30/2018, 1:09:00 AM           Heat up please. Again, very cold in here   \n",
       "1  10/30/2018, 1:28:08 AM  Good morning, I'd like to put in a request to ...   \n",
       "2  10/30/2018, 1:33:16 AM  Hello,\\n\\nit is me again. Could you please swi...   \n",
       "3  10/30/2018, 1:34:16 AM  Hello Team,\\n\\nWould you please be so kind and...   \n",
       "4  10/30/2018, 1:35:21 AM  Hi Holly\\nSo sorry to ask again but some of th...   \n",
       "\n",
       "        Label  Label_id  \n",
       "0  cold_issue         1  \n",
       "1  cold_issue         1  \n",
       "2  cold_issue         1  \n",
       "3  cold_issue         1  \n",
       "4  cold_issue         1  "
      ]
     },
     "execution_count": 10,
     "metadata": {},
     "output_type": "execute_result"
    }
   ],
   "source": [
    "\"\"\"\n",
    "Dataset Preparation\n",
    "\"\"\"\n",
    "\n",
    "if __name__ == \"__main__\":\n",
    "    # CSV file should be in ASCII encoding\n",
    "    data = pd.read_csv(path_train,usecols=cols_train)\n",
    "    \n",
    "Label_to_id = table\n",
    "id_to_Label = table_reverse\n",
    "data[\"Label_id\"] = data[\"Label\"].map(Label_to_id)\n",
    "\n",
    "#Label_id_df = data[['Label', 'Label_id']].drop_duplicates().sort_values('Label_id')\n",
    "#Label_to_id = dict(Label_id_df.values)\n",
    "#id_to_Label = dict(Label_id_df[['Label_id', 'Label']].values)\n",
    "data.head()"
   ]
  },
  {
   "cell_type": "code",
   "execution_count": null,
   "metadata": {},
   "outputs": [],
   "source": []
  },
  {
   "cell_type": "code",
   "execution_count": 14,
   "metadata": {},
   "outputs": [
    {
     "data": {
      "image/png": "[encoded data removed]",
      "text/plain": [
       "<Figure size 648x432 with 1 Axes>"
      ]
     },
     "metadata": {
      "needs_background": "light"
     },
     "output_type": "display_data"
    },
    {
     "name": "stdout",
     "output_type": "stream",
     "text": [
      "cold_issue       1265\n",
      "heat_issue        544\n",
      "air_flow1          50\n",
      "noise_issue        46\n",
      "unit_leaking1       7\n",
      "Name: Label, dtype: int64\n"
     ]
    }
   ],
   "source": [
    "import matplotlib.pyplot as plt\n",
    "fig = plt.figure(figsize=(9,6))\n",
    "data.groupby('Label').Description.count().plot.bar(ylim=0)\n",
    "plt.show()\n",
    "\n",
    "print(data['Label'].value_counts())"
   ]
  },
  {
   "cell_type": "code",
   "execution_count": 13,
   "metadata": {},
   "outputs": [
    {
     "data": {
      "text/plain": [
       "Erik Hal.                                             283\n",
       "WeWork Community team at Aldgate Tower                137\n",
       "WeWork Community team at 1 Primrose St                 96\n",
       "WeWork Community team at 8 Devonshire Square           96\n",
       "WeWork Community team at North West House              95\n",
       "WeWork Community team at 138 Holborn                   91\n",
       "WeWork Community team at 41 Corsham St                 89\n",
       "WeWork Community team at Moor Place                    76\n",
       "WeWork Community team at No 1 Poultry                  76\n",
       "WeWork Community team at 16 Great Chapel St            73\n",
       "WeWork Community team at 145 City Rd                   60\n",
       "WeWork Community team at 12 Hammersmith Grove          59\n",
       "WeWork Community team at Fox Court                     56\n",
       "WeWork Community team at 33 Queen St                   55\n",
       "WeWork Community team at 1 St Katharine&#x27;s Way     54\n",
       "WeWork Community team at 15 Bishopsgate                47\n",
       "WeWork Community team at The Cursitor                  47\n",
       "WeWork Community team at Keltan House                  44\n",
       "WeWork Community team at Iveagh Court                  43\n",
       "WeWork Community team at 1 Mark Sq                     43\n",
       "WeWork Community Management (LON23)                    40\n",
       "WeWork Community team at 131 Finsbury Pavement         29\n",
       "WeWork Community Management (LON40)                    27\n",
       "WeWork Community team at Kings Place                   26\n",
       "WeWork Community team at Medius House                  24\n",
       "Name: Assignee_Name, dtype: int64"
      ]
     },
     "execution_count": 13,
     "metadata": {},
     "output_type": "execute_result"
    }
   ],
   "source": [
    "data['Assignee_Name'].value_counts().head(25)"
   ]
  },
  {
   "cell_type": "code",
   "execution_count": 271,
   "metadata": {},
   "outputs": [],
   "source": [
    "\"\"\"\n",
    "Feature Engineering\n",
    "\"\"\"\n",
    "import gensim\n",
    "from gensim import corpora\n",
    "from gensim.utils import simple_preprocess\n",
    "from gensim.models import CoherenceModel\n",
    "\n",
    "import nltk\n",
    "from nltk.corpus import stopwords\n",
    "import matplotlib.pyplot as plt"
   ]
  },
  {
   "cell_type": "code",
   "execution_count": 272,
   "metadata": {},
   "outputs": [
    {
     "ename": "TypeError",
     "evalue": "argument of type 'float' is not iterable",
     "output_type": "error",
     "traceback": [
      "\u001b[1;31m---------------------------------------------------------------------------\u001b[0m",
      "\u001b[1;31mTypeError\u001b[0m                                 Traceback (most recent call last)",
      "\u001b[1;32m<ipython-input-272-5d00cf4af68a>\u001b[0m in \u001b[0;36m<module>\u001b[1;34m()\u001b[0m\n\u001b[0;32m     12\u001b[0m     \u001b[1;32mreturn\u001b[0m \u001b[0mdata_description\u001b[0m\u001b[1;33m\u001b[0m\u001b[0m\n\u001b[0;32m     13\u001b[0m \u001b[1;33m\u001b[0m\u001b[0m\n\u001b[1;32m---> 14\u001b[1;33m \u001b[0mdata\u001b[0m\u001b[1;33m[\u001b[0m\u001b[1;34m\"Description\"\u001b[0m\u001b[1;33m]\u001b[0m \u001b[1;33m=\u001b[0m \u001b[0mkeep_ac\u001b[0m\u001b[1;33m(\u001b[0m\u001b[0mdata\u001b[0m\u001b[1;33m[\u001b[0m\u001b[1;34m\"Description\"\u001b[0m\u001b[1;33m]\u001b[0m\u001b[1;33m,\u001b[0m \u001b[0mac_keywords\u001b[0m\u001b[1;33m)\u001b[0m\u001b[1;33m\u001b[0m\u001b[0m\n\u001b[0m\u001b[0;32m     15\u001b[0m \u001b[1;33m\u001b[0m\u001b[0m\n\u001b[0;32m     16\u001b[0m \u001b[0mdata\u001b[0m\u001b[1;33m[\u001b[0m\u001b[1;34m\"Description\"\u001b[0m\u001b[1;33m]\u001b[0m\u001b[1;33m[\u001b[0m\u001b[1;36m1\u001b[0m\u001b[1;33m]\u001b[0m\u001b[1;33m\u001b[0m\u001b[0m\n",
      "\u001b[1;32m<ipython-input-272-5d00cf4af68a>\u001b[0m in \u001b[0;36mkeep_ac\u001b[1;34m(texts, ac_keywords)\u001b[0m\n\u001b[0;32m      7\u001b[0m     \u001b[1;32mfor\u001b[0m \u001b[0mtext\u001b[0m \u001b[1;32min\u001b[0m \u001b[0mtexts\u001b[0m\u001b[1;33m:\u001b[0m\u001b[1;33m\u001b[0m\u001b[0m\n\u001b[0;32m      8\u001b[0m         \u001b[1;32mfor\u001b[0m \u001b[0mkeyword\u001b[0m \u001b[1;32min\u001b[0m \u001b[0mac_keywords\u001b[0m\u001b[1;33m:\u001b[0m\u001b[1;33m\u001b[0m\u001b[0m\n\u001b[1;32m----> 9\u001b[1;33m             \u001b[1;32mif\u001b[0m \u001b[0mkeyword\u001b[0m \u001b[1;32min\u001b[0m \u001b[0mtext\u001b[0m\u001b[1;33m:\u001b[0m \u001b[1;31m# actually acceptable\u001b[0m\u001b[1;33m\u001b[0m\u001b[0m\n\u001b[0m\u001b[0;32m     10\u001b[0m                 \u001b[0mtext\u001b[0m \u001b[1;33m=\u001b[0m \u001b[0mtext\u001b[0m\u001b[1;33m.\u001b[0m\u001b[0mreplace\u001b[0m\u001b[1;33m(\u001b[0m\u001b[0mkeyword\u001b[0m\u001b[1;33m,\u001b[0m\u001b[1;34m\" AC \"\u001b[0m\u001b[1;33m)\u001b[0m\u001b[1;33m\u001b[0m\u001b[0m\n\u001b[0;32m     11\u001b[0m         \u001b[0mdata_description\u001b[0m\u001b[1;33m.\u001b[0m\u001b[0mappend\u001b[0m\u001b[1;33m(\u001b[0m\u001b[0mtext\u001b[0m\u001b[1;33m)\u001b[0m\u001b[1;33m\u001b[0m\u001b[0m\n",
      "\u001b[1;31mTypeError\u001b[0m: argument of type 'float' is not iterable"
     ]
    }
   ],
   "source": [
    "# Keep AC\n",
    "\n",
    "ac_keywords = [\" AC \", \" ac \", \"a/c\", \"A/C\", \"HVAC\", \"Hvac\", \"hvac \", \"Air Condition\", \"Air condition\", \"air condition\"]\n",
    "\n",
    "def keep_ac(texts,ac_keywords):\n",
    "    data_description = []\n",
    "    for text in texts:\n",
    "        for keyword in ac_keywords:        \n",
    "            if keyword in text: # actually acceptable\n",
    "                text = text.replace(keyword,\" AC \")\n",
    "        data_description.append(text)\n",
    "    return data_description\n",
    "            \n",
    "data[\"Description\"] = keep_ac(data[\"Description\"], ac_keywords)\n",
    "\n",
    "data[\"Description\"][1]\n",
    "    "
   ]
  },
  {
   "cell_type": "code",
   "execution_count": null,
   "metadata": {},
   "outputs": [],
   "source": [
    "# bag of words\n",
    "def sent_to_words(texts):\n",
    "    for text in texts:\n",
    "        yield(simple_preprocess(text, min_len=2))\n",
    "\n",
    "data_words = list(sent_to_words(data[\"Description\"]))\n",
    "print (data_words[3])\n",
    "\n",
    "\n",
    "# Preparing Stop Words\n",
    "stop_words = stopwords.words('english')\n",
    "stop_words.extend([\"hi\",\"hey\",\"guys\",\"you\",\"thank\",\"thanks\",\"please\",\"would\",\"could\"])\n",
    "for w in [\"on\",\"off\",\"up\",\"down\"]:\n",
    "    stop_words.remove(w)\n",
    "\n",
    "# Define functions process stopwords & other keywords\n",
    "def remove_stopwords(texts):\n",
    "    new_texts=[]\n",
    "    for text in texts:\n",
    "        yield([word for word in text if word not in stop_words])\n",
    "\n",
    "# Remove Stop Words\n",
    "data_words_nonstops = list(remove_stopwords(data_words))\n",
    "print(data_words_nonstops[3])"
   ]
  },
  {
   "cell_type": "code",
   "execution_count": null,
   "metadata": {},
   "outputs": [],
   "source": [
    "# Trigram\n",
    "from sklearn import model_selection, preprocessing, linear_model, naive_bayes, metrics, svm\n",
    "from sklearn.feature_extraction.text import TfidfVectorizer, CountVectorizer\n",
    "from sklearn import decomposition, ensemble\n",
    "\n",
    "import pandas, numpy, string\n",
    "\n",
    "tfidf = TfidfVectorizer(sublinear_tf=True, min_df=5, norm='l2', encoding='latin-1', ngram_range=(1, 3),stop_words=stop_words)\n",
    "features = tfidf.fit_transform(data[\"Description\"]).toarray()\n",
    "labels = data.Label\n",
    "\n",
    "features.shape\n",
    "print(\"Each of\", features.shape[0], \"consumer complaint narratives is represented by\", features.shape[1], \"features\")\n",
    "print(\"representing the tf-idf score for different unigrams and bigrams\")"
   ]
  },
  {
   "cell_type": "code",
   "execution_count": null,
   "metadata": {},
   "outputs": [],
   "source": [
    "from sklearn.feature_selection import chi2\n",
    "import numpy as np\n",
    "N = 2\n",
    "for Label, Label_id in sorted(Label_to_id.items()):\n",
    "  features_chi2 = chi2(features, labels == Label)\n",
    "  indices = np.argsort(features_chi2[0])\n",
    "  feature_names = np.array(tfidf.get_feature_names())[indices]\n",
    "  unigrams = [v for v in feature_names if len(v.split(' ')) == 1]\n",
    "  bigrams = [v for v in feature_names if len(v.split(' ')) == 2]\n",
    "  trigrams = [v for v in feature_names if len(v.split(' ')) == 3]\n",
    "  print(\"# '{}':\".format(Label))\n",
    "  print(\"  . Most correlated unigrams:\\n. {}\".format('\\n. '.join(unigrams[-N:])))\n",
    "  print(\"  . Most correlated bigrams:\\n. {}\".format('\\n. '.join(bigrams[-N:])))\n",
    "  print(\"  . Most correlated trigrams:\\n. {}\".format('\\n. '.join(trigrams[-N:])))\n",
    "  print(\"\")"
   ]
  },
  {
   "cell_type": "code",
   "execution_count": null,
   "metadata": {},
   "outputs": [],
   "source": [
    "\"\"\"\n",
    "Model Buliding\n",
    "\"\"\"\n"
   ]
  },
  {
   "cell_type": "code",
   "execution_count": null,
   "metadata": {},
   "outputs": [],
   "source": [
    "from sklearn.model_selection import train_test_split\n",
    "from sklearn.feature_extraction.text import CountVectorizer\n",
    "from sklearn.feature_extraction.text import TfidfTransformer"
   ]
  },
  {
   "cell_type": "code",
   "execution_count": null,
   "metadata": {},
   "outputs": [],
   "source": [
    "from sklearn.naive_bayes import MultinomialNB\n",
    "from sklearn.linear_model import LogisticRegression\n",
    "from sklearn.ensemble import RandomForestClassifier\n",
    "from sklearn.svm import LinearSVC\n",
    "\n",
    "from sklearn.model_selection import cross_val_score\n",
    "models = [\n",
    "    RandomForestClassifier(n_estimators=200, max_depth=3, random_state=0),\n",
    "    LinearSVC(),\n",
    "    MultinomialNB(),\n",
    "    LogisticRegression(random_state=0),\n",
    "]\n",
    "CV = 5\n",
    "cv_df = pd.DataFrame(index=range(CV * len(models)))\n",
    "entries = []\n",
    "for model in models:\n",
    "  Model_Name = model.__class__.__name__\n",
    "  accuracies = cross_val_score(model, features, labels, scoring='accuracy', cv=CV)\n",
    "  for fold_idx, accuracy in enumerate(accuracies):\n",
    "    entries.append((Model_Name, fold_idx, accuracy))\n",
    "cv_df = pd.DataFrame(entries, columns=['Model_Name', 'fold_idx', 'accuracy'])\n",
    "\n",
    "import seaborn as sns\n",
    "plt.subplots(figsize=(8,5))\n",
    "\n",
    "sns.boxplot(x='Model_Name', y='accuracy', data=cv_df, width=0.8)\n",
    "sns.stripplot(x='Model_Name', y='accuracy', data=cv_df, \n",
    "              size=8, jitter=True, edgecolor=\"gray\", linewidth=2)\n",
    "plt.show()"
   ]
  },
  {
   "cell_type": "code",
   "execution_count": null,
   "metadata": {},
   "outputs": [],
   "source": [
    "cv_df.groupby('Model_Name').accuracy.mean()"
   ]
  },
  {
   "cell_type": "code",
   "execution_count": null,
   "metadata": {},
   "outputs": [],
   "source": [
    "label_list = ['air_flow1', 'cold_issue', 'heat_issue',  'noise_issue', 'unit_leaking1']"
   ]
  },
  {
   "cell_type": "code",
   "execution_count": null,
   "metadata": {},
   "outputs": [],
   "source": [
    "model = LinearSVC()\n",
    "X_train, X_test, y_train, y_test, indices_train, indices_test = train_test_split(features, labels, data.index, test_size=0.25, random_state=0)\n",
    "model.fit(X_train, y_train)\n",
    "y_pred = model.predict(X_test)\n",
    "\n",
    "from sklearn.metrics import confusion_matrix\n",
    "conf_mat = confusion_matrix(y_test, y_pred)\n",
    "fig, ax = plt.subplots(figsize=(6,4))\n",
    "sns.heatmap(conf_mat, annot=True, fmt='d',\n",
    "            xticklabels=label_list, yticklabels=label_list)\n",
    "plt.ylabel('Actual')\n",
    "plt.xlabel('Predicted')\n",
    "plt.show()"
   ]
  },
  {
   "cell_type": "code",
   "execution_count": null,
   "metadata": {},
   "outputs": [],
   "source": [
    "model = LogisticRegression(random_state=0)\n",
    "X_train, X_test, y_train, y_test, indices_train, indices_test = train_test_split(features, labels, data.index, test_size=0.25, random_state=0)\n",
    "model.fit(X_train, y_train)\n",
    "y_pred = model.predict(X_test)\n",
    "\n",
    "from sklearn.metrics import confusion_matrix\n",
    "conf_mat = confusion_matrix(y_test, y_pred)\n",
    "fig, ax = plt.subplots(figsize=(6,4))\n",
    "sns.heatmap(conf_mat, annot=True, fmt='d',\n",
    "            xticklabels=label_list, yticklabels=label_list)\n",
    "plt.ylabel('Actual')\n",
    "plt.xlabel('Predicted')\n",
    "plt.show()"
   ]
  },
  {
   "cell_type": "code",
   "execution_count": null,
   "metadata": {},
   "outputs": [],
   "source": []
  },
  {
   "cell_type": "code",
   "execution_count": null,
   "metadata": {
    "scrolled": true
   },
   "outputs": [],
   "source": [
    "from sklearn import metrics\n",
    "print(metrics.classification_report(y_test, y_pred, label_list))"
   ]
  },
  {
   "cell_type": "code",
   "execution_count": null,
   "metadata": {},
   "outputs": [],
   "source": [
    "pd.set_option('max_colwidth',150)\n",
    "\n",
    "from IPython.display import display, HTML\n",
    "for predicted in label_list:\n",
    "  for actual in label_list:\n",
    "        if predicted == actual:\n",
    "            print(\"{} predicted as {} : {} examples.\".format(actual, predicted, conf_mat[table[actual], table[predicted]]))\n",
    "            display(data.loc[indices_test[(y_test == actual) & (y_pred == predicted)]][['Label', 'Description']])\n",
    "            print()"
   ]
  },
  {
   "cell_type": "code",
   "execution_count": null,
   "metadata": {
    "slideshow": {
     "slide_type": "-"
    }
   },
   "outputs": [],
   "source": [
    "pd.set_option('max_colwidth',150)\n",
    "\n",
    "from IPython.display import display, HTML\n",
    "for predicted in label_list:\n",
    "  for actual in label_list:\n",
    "        if predicted != actual and conf_mat[table[actual], table[predicted]] >= 5:\n",
    "            print(\"{} predicted as {} : {} examples.\".format(actual, predicted, conf_mat[table[actual], table[predicted]]))\n",
    "            display(data.loc[indices_test[(y_test == actual) & (y_pred == predicted)]][['Label', 'Description']])\n",
    "            print()"
   ]
  },
  {
   "cell_type": "code",
   "execution_count": null,
   "metadata": {},
   "outputs": [],
   "source": []
  },
  {
   "cell_type": "code",
   "execution_count": null,
   "metadata": {},
   "outputs": [],
   "source": []
  }
 ],
 "metadata": {
  "kernelspec": {
   "display_name": "Python 3",
   "language": "python",
   "name": "python3"
  },
  "language_info": {
   "codemirror_mode": {
    "name": "ipython",
    "version": 3
   },
   "file_extension": ".py",
   "mimetype": "text/x-python",
   "name": "python",
   "nbconvert_exporter": "python",
   "pygments_lexer": "ipython3",
   "version": "3.7.0"
  }
 },
 "nbformat": 4,
 "nbformat_minor": 2
}
