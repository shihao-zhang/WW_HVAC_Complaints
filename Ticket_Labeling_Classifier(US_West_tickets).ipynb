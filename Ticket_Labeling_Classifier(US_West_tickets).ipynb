{
 "cells": [
  {
   "cell_type": "code",
   "execution_count": 2,
   "metadata": {},
   "outputs": [
    {
     "data": {
      "text/plain": [
       "'\\nAUTHOR: Shihao Zhang\\nDate: 10/24/2018\\n\\nWhat is this script for?\\nThis script can process raw data from ZenDesk by:\\n1. Train classifiers with labeled HVAC tickets\\n2. Classify tickets without label\\n\\nHow to use this script?\\nPrepare a excel file. Here is the preparation instruction:\\n1. \\n2. The first column must be time stamp\\n\\nPackage required:\\npandas, numpy, skilearn\\n'"
      ]
     },
     "execution_count": 2,
     "metadata": {},
     "output_type": "execute_result"
    }
   ],
   "source": [
    "\"\"\"\n",
    "AUTHOR: Shihao Zhang\n",
    "Date: 10/24/2018\n",
    "\n",
    "What is this script for?\n",
    "This script can process raw data from ZenDesk by:\n",
    "1. Train classifiers with labeled HVAC tickets\n",
    "2. Classify tickets without label\n",
    "\n",
    "How to use this script?\n",
    "Prepare a excel file. Here is the preparation instruction:\n",
    "1. \n",
    "2. The first column must be time stamp\n",
    "\n",
    "Package required:\n",
    "pandas, numpy, skilearn\n",
    "\"\"\"\n",
    "\n",
    "# Itâ€™s --> It's"
   ]
  },
  {
   "cell_type": "code",
   "execution_count": 3,
   "metadata": {},
   "outputs": [],
   "source": [
    "import pandas as pd\n",
    "import numpy as np\n",
    "import datetime as dt\n",
    "\"\"\"\n",
    "USER INPUT\n",
    "\"\"\"\n",
    "path_train = \"tickets(USWEST_2018Oct29).csv\" \n",
    "cols_train = [ \"Created\",\"Description\",\"Label\", \"Label_id\",\"Requester_Name\",'Assignee_Name']\n"
   ]
  },
  {
   "cell_type": "code",
   "execution_count": 4,
   "metadata": {},
   "outputs": [],
   "source": [
    "\"\"\"\n",
    "Dataset Preparation\n",
    "\"\"\"\n",
    "\n",
    "if __name__ == \"__main__\":\n",
    "    # CSV file should be in ASCII encoding\n",
    "    data = pd.read_csv(path_train,usecols=cols_train)\n",
    "\n",
    "data.head()\n",
    "\n",
    "Label_id_df = data[['Label', 'Label_id']].drop_duplicates().sort_values('Label_id')\n",
    "Label_to_id = dict(Label_id_df.values)\n",
    "id_to_Label = dict(Label_id_df[['Label_id', 'Label']].values)"
   ]
  },
  {
   "cell_type": "code",
   "execution_count": 21,
   "metadata": {},
   "outputs": [
    {
     "data": {
      "image/png": "[encoded data removed]",
      "text/plain": [
       "<Figure size 648x432 with 1 Axes>"
      ]
     },
     "metadata": {
      "needs_background": "light"
     },
     "output_type": "display_data"
    },
    {
     "name": "stdout",
     "output_type": "stream",
     "text": [
      "cold_issue       554\n",
      "heat_issue       267\n",
      "noise_issue       38\n",
      "air_flow1         37\n",
      "unit_leaking1      4\n",
      "Name: Label, dtype: int64\n"
     ]
    }
   ],
   "source": [
    "import matplotlib.pyplot as plt\n",
    "fig = plt.figure(figsize=(9,6))\n",
    "data.groupby('Label').Description.count().plot.bar(ylim=0)\n",
    "plt.show()\n",
    "\n",
    "print(data['Label'].value_counts())"
   ]
  },
  {
   "cell_type": "code",
   "execution_count": 6,
   "metadata": {},
   "outputs": [
    {
     "data": {
      "text/plain": [
       "WeWork Houston Galleria Community Management    59\n",
       "WeWork Mid Market Community Management          42\n",
       "WeWork Civic Center Community Management        40\n",
       "WeWork Community Management (AUS06)             38\n",
       "WeWork Golden Gate Community Management         38\n",
       "Name: Assignee_Name, dtype: int64"
      ]
     },
     "execution_count": 6,
     "metadata": {},
     "output_type": "execute_result"
    }
   ],
   "source": [
    "data['Assignee_Name'].value_counts().head()"
   ]
  },
  {
   "cell_type": "code",
   "execution_count": null,
   "metadata": {},
   "outputs": [],
   "source": []
  },
  {
   "cell_type": "code",
   "execution_count": 7,
   "metadata": {},
   "outputs": [
    {
     "name": "stderr",
     "output_type": "stream",
     "text": [
      "C:\\Users\\szhang7\\AppData\\Local\\Continuum\\anaconda3\\envs\\py36\\lib\\site-packages\\gensim\\utils.py:1197: UserWarning: detected Windows; aliasing chunkize to chunkize_serial\n",
      "  warnings.warn(\"detected Windows; aliasing chunkize to chunkize_serial\")\n"
     ]
    }
   ],
   "source": [
    "\"\"\"\n",
    "Feature Engineering\n",
    "\"\"\"\n",
    "import gensim\n",
    "from gensim import corpora\n",
    "from gensim.utils import simple_preprocess\n",
    "from gensim.models import CoherenceModel\n",
    "\n",
    "import nltk\n",
    "from nltk.corpus import stopwords\n",
    "import matplotlib.pyplot as plt"
   ]
  },
  {
   "cell_type": "code",
   "execution_count": 8,
   "metadata": {},
   "outputs": [
    {
     "data": {
      "text/plain": [
       "'Hi! One of the guys adjusted the vents in our office last week, but its blowing directly on a few people and they would like it to not do that.  Can someone please come by with a ladder to adjust?  I would do it myself if I could reach them.  Thx!'"
      ]
     },
     "execution_count": 8,
     "metadata": {},
     "output_type": "execute_result"
    }
   ],
   "source": [
    "# Keep AC\n",
    "\n",
    "ac_keywords = [\" AC \", \" ac \", \"a/c\", \"A/C\", \"HVAC\", \"Hvac\", \"hvac \", \"Air Condition\", \"Air condition\", \"air condition\"]\n",
    "\n",
    "def keep_ac(texts,ac_keywords):\n",
    "    data_description = []\n",
    "    for text in texts:\n",
    "        for keyword in ac_keywords:        \n",
    "            if keyword in text: # actually acceptable\n",
    "                text = text.replace(keyword,\"AC \")\n",
    "        data_description.append(text)\n",
    "    return data_description\n",
    "            \n",
    "data[\"Description\"] = keep_ac(data[\"Description\"], ac_keywords)\n",
    "\n",
    "data[\"Description\"][3]\n",
    "    "
   ]
  },
  {
   "cell_type": "code",
   "execution_count": 9,
   "metadata": {},
   "outputs": [
    {
     "name": "stdout",
     "output_type": "stream",
     "text": [
      "['hi', 'one', 'of', 'the', 'guys', 'adjusted', 'the', 'vents', 'in', 'our', 'office', 'last', 'week', 'but', 'its', 'blowing', 'directly', 'on', 'few', 'people', 'and', 'they', 'would', 'like', 'it', 'to', 'not', 'do', 'that', 'can', 'someone', 'please', 'come', 'by', 'with', 'ladder', 'to', 'adjust', 'would', 'do', 'it', 'myself', 'if', 'could', 'reach', 'them', 'thx']\n",
      "['one', 'adjusted', 'vents', 'office', 'last', 'week', 'blowing', 'directly', 'on', 'people', 'like', 'someone', 'come', 'ladder', 'adjust', 'reach', 'thx']\n"
     ]
    }
   ],
   "source": [
    "# bag of words\n",
    "def sent_to_words(texts):\n",
    "    for text in texts:\n",
    "        yield(simple_preprocess(text, min_len=2))\n",
    "\n",
    "data_words = list(sent_to_words(data[\"Description\"]))\n",
    "print (data_words[3])\n",
    "\n",
    "\n",
    "# Preparing Stop Words\n",
    "stop_words = stopwords.words('english')\n",
    "stop_words.extend([\"hi\",\"hey\",\"guys\",\"you\",\"thank\",\"thanks\",\"please\",\"would\",\"could\"])\n",
    "for w in [\"on\",\"off\",\"up\",\"down\"]:\n",
    "    stop_words.remove(w)\n",
    "\n",
    "# Define functions process stopwords & other keywords\n",
    "def remove_stopwords(texts):\n",
    "    new_texts=[]\n",
    "    for text in texts:\n",
    "        yield([word for word in text if word not in stop_words])\n",
    "\n",
    "# Remove Stop Words\n",
    "data_words_nonstops = list(remove_stopwords(data_words))\n",
    "print(data_words_nonstops[3])"
   ]
  },
  {
   "cell_type": "code",
   "execution_count": 10,
   "metadata": {},
   "outputs": [
    {
     "name": "stdout",
     "output_type": "stream",
     "text": [
      "Each of 900 consumer complaint narratives is represented by 630 features\n",
      "representing the tf-idf score for different unigrams and bigrams\n"
     ]
    }
   ],
   "source": [
    "# Trigram\n",
    "from sklearn import model_selection, preprocessing, linear_model, naive_bayes, metrics, svm\n",
    "from sklearn.feature_extraction.text import TfidfVectorizer, CountVectorizer\n",
    "from sklearn import decomposition, ensemble\n",
    "\n",
    "import pandas, numpy, string\n",
    "\n",
    "tfidf = TfidfVectorizer(sublinear_tf=True, min_df=5, norm='l2', encoding='latin-1', ngram_range=(1, 2),stop_words=stop_words)\n",
    "features = tfidf.fit_transform(data[\"Description\"]).toarray()\n",
    "labels = data.Label\n",
    "\n",
    "features.shape\n",
    "print(\"Each of\", features.shape[0], \"consumer complaint narratives is represented by\", features.shape[1], \"features\")\n",
    "print(\"representing the tf-idf score for different unigrams and bigrams\")"
   ]
  },
  {
   "cell_type": "code",
   "execution_count": 11,
   "metadata": {},
   "outputs": [
    {
     "name": "stdout",
     "output_type": "stream",
     "text": [
      "# 'air_flow1':\n",
      "  . Most correlated unigrams:\n",
      ". ventilation\n",
      ". smell\n",
      "  . Most correlated bigrams:\n",
      ". google com\n",
      ". com calendar\n",
      "\n",
      "# 'cold_issue':\n",
      "  . Most correlated unigrams:\n",
      ". cold\n",
      ". hot\n",
      "  . Most correlated bigrams:\n",
      ". cold office\n",
      ". hot office\n",
      "\n",
      "# 'heat_issue':\n",
      "  . Most correlated unigrams:\n",
      ". warm\n",
      ". hot\n",
      "  . Most correlated bigrams:\n",
      ". really hot\n",
      ". hot office\n",
      "\n",
      "# 'noise_issue':\n",
      "  . Most correlated unigrams:\n",
      ". loud\n",
      ". noise\n",
      "  . Most correlated bigrams:\n",
      ". take look\n",
      ". ac system\n",
      "\n",
      "# 'unit_leaking1':\n",
      "  . Most correlated unigrams:\n",
      ". hard\n",
      ". units\n",
      "  . Most correlated bigrams:\n",
      ". com calendar\n",
      ". looks like\n",
      "\n"
     ]
    }
   ],
   "source": [
    "from sklearn.feature_selection import chi2\n",
    "import numpy as np\n",
    "N = 2\n",
    "for Label, Label_id in sorted(Label_to_id.items()):\n",
    "  features_chi2 = chi2(features, labels == Label)\n",
    "  indices = np.argsort(features_chi2[0])\n",
    "  feature_names = np.array(tfidf.get_feature_names())[indices]\n",
    "  unigrams = [v for v in feature_names if len(v.split(' ')) == 1]\n",
    "  bigrams = [v for v in feature_names if len(v.split(' ')) == 2]\n",
    "  print(\"# '{}':\".format(Label))\n",
    "  print(\"  . Most correlated unigrams:\\n. {}\".format('\\n. '.join(unigrams[-N:])))\n",
    "  print(\"  . Most correlated bigrams:\\n. {}\".format('\\n. '.join(bigrams[-N:])))\n",
    "  print(\"\")"
   ]
  },
  {
   "cell_type": "code",
   "execution_count": 12,
   "metadata": {},
   "outputs": [
    {
     "data": {
      "text/plain": [
       "'\\nModel Buliding\\n'"
      ]
     },
     "execution_count": 12,
     "metadata": {},
     "output_type": "execute_result"
    }
   ],
   "source": [
    "\"\"\"\n",
    "Model Buliding\n",
    "\"\"\"\n"
   ]
  },
  {
   "cell_type": "code",
   "execution_count": 13,
   "metadata": {},
   "outputs": [],
   "source": [
    "from sklearn.model_selection import train_test_split\n",
    "from sklearn.feature_extraction.text import CountVectorizer\n",
    "from sklearn.feature_extraction.text import TfidfTransformer"
   ]
  },
  {
   "cell_type": "code",
   "execution_count": 22,
   "metadata": {},
   "outputs": [
    {
     "name": "stderr",
     "output_type": "stream",
     "text": [
      "C:\\Users\\szhang7\\AppData\\Local\\Continuum\\anaconda3\\envs\\py36\\lib\\site-packages\\sklearn\\model_selection\\_split.py:626: Warning: The least populated class in y has only 4 members, which is too few. The minimum number of members in any class cannot be less than n_splits=5.\n",
      "  % (min_groups, self.n_splits)), Warning)\n",
      "C:\\Users\\szhang7\\AppData\\Local\\Continuum\\anaconda3\\envs\\py36\\lib\\site-packages\\sklearn\\model_selection\\_split.py:626: Warning: The least populated class in y has only 4 members, which is too few. The minimum number of members in any class cannot be less than n_splits=5.\n",
      "  % (min_groups, self.n_splits)), Warning)\n",
      "C:\\Users\\szhang7\\AppData\\Local\\Continuum\\anaconda3\\envs\\py36\\lib\\site-packages\\sklearn\\model_selection\\_split.py:626: Warning: The least populated class in y has only 4 members, which is too few. The minimum number of members in any class cannot be less than n_splits=5.\n",
      "  % (min_groups, self.n_splits)), Warning)\n",
      "C:\\Users\\szhang7\\AppData\\Local\\Continuum\\anaconda3\\envs\\py36\\lib\\site-packages\\sklearn\\model_selection\\_split.py:626: Warning: The least populated class in y has only 4 members, which is too few. The minimum number of members in any class cannot be less than n_splits=5.\n",
      "  % (min_groups, self.n_splits)), Warning)\n",
      "C:\\Users\\szhang7\\AppData\\Local\\Continuum\\anaconda3\\envs\\py36\\lib\\site-packages\\sklearn\\linear_model\\logistic.py:432: FutureWarning: Default solver will be changed to 'lbfgs' in 0.22. Specify a solver to silence this warning.\n",
      "  FutureWarning)\n",
      "C:\\Users\\szhang7\\AppData\\Local\\Continuum\\anaconda3\\envs\\py36\\lib\\site-packages\\sklearn\\linear_model\\logistic.py:459: FutureWarning: Default multi_class will be changed to 'auto' in 0.22. Specify the multi_class option to silence this warning.\n",
      "  \"this warning.\", FutureWarning)\n",
      "C:\\Users\\szhang7\\AppData\\Local\\Continuum\\anaconda3\\envs\\py36\\lib\\site-packages\\sklearn\\linear_model\\logistic.py:432: FutureWarning: Default solver will be changed to 'lbfgs' in 0.22. Specify a solver to silence this warning.\n",
      "  FutureWarning)\n",
      "C:\\Users\\szhang7\\AppData\\Local\\Continuum\\anaconda3\\envs\\py36\\lib\\site-packages\\sklearn\\linear_model\\logistic.py:459: FutureWarning: Default multi_class will be changed to 'auto' in 0.22. Specify the multi_class option to silence this warning.\n",
      "  \"this warning.\", FutureWarning)\n",
      "C:\\Users\\szhang7\\AppData\\Local\\Continuum\\anaconda3\\envs\\py36\\lib\\site-packages\\sklearn\\linear_model\\logistic.py:432: FutureWarning: Default solver will be changed to 'lbfgs' in 0.22. Specify a solver to silence this warning.\n",
      "  FutureWarning)\n",
      "C:\\Users\\szhang7\\AppData\\Local\\Continuum\\anaconda3\\envs\\py36\\lib\\site-packages\\sklearn\\linear_model\\logistic.py:459: FutureWarning: Default multi_class will be changed to 'auto' in 0.22. Specify the multi_class option to silence this warning.\n",
      "  \"this warning.\", FutureWarning)\n",
      "C:\\Users\\szhang7\\AppData\\Local\\Continuum\\anaconda3\\envs\\py36\\lib\\site-packages\\sklearn\\linear_model\\logistic.py:432: FutureWarning: Default solver will be changed to 'lbfgs' in 0.22. Specify a solver to silence this warning.\n",
      "  FutureWarning)\n",
      "C:\\Users\\szhang7\\AppData\\Local\\Continuum\\anaconda3\\envs\\py36\\lib\\site-packages\\sklearn\\linear_model\\logistic.py:459: FutureWarning: Default multi_class will be changed to 'auto' in 0.22. Specify the multi_class option to silence this warning.\n",
      "  \"this warning.\", FutureWarning)\n",
      "C:\\Users\\szhang7\\AppData\\Local\\Continuum\\anaconda3\\envs\\py36\\lib\\site-packages\\sklearn\\linear_model\\logistic.py:432: FutureWarning: Default solver will be changed to 'lbfgs' in 0.22. Specify a solver to silence this warning.\n",
      "  FutureWarning)\n",
      "C:\\Users\\szhang7\\AppData\\Local\\Continuum\\anaconda3\\envs\\py36\\lib\\site-packages\\sklearn\\linear_model\\logistic.py:459: FutureWarning: Default multi_class will be changed to 'auto' in 0.22. Specify the multi_class option to silence this warning.\n",
      "  \"this warning.\", FutureWarning)\n"
     ]
    },
    {
     "data": {
      "image/png": "[encoded data removed]",
      "text/plain": [
       "<Figure size 576x360 with 1 Axes>"
      ]
     },
     "metadata": {
      "needs_background": "light"
     },
     "output_type": "display_data"
    }
   ],
   "source": [
    "from sklearn.naive_bayes import MultinomialNB\n",
    "from sklearn.linear_model import LogisticRegression\n",
    "from sklearn.ensemble import RandomForestClassifier\n",
    "from sklearn.svm import LinearSVC\n",
    "from sklearn.model_selection import cross_val_score\n",
    "models = [\n",
    "    RandomForestClassifier(n_estimators=200, max_depth=3, random_state=0),\n",
    "    LinearSVC(),\n",
    "    MultinomialNB(),\n",
    "    LogisticRegression(random_state=0),\n",
    "]\n",
    "CV = 5\n",
    "cv_df = pd.DataFrame(index=range(CV * len(models)))\n",
    "entries = []\n",
    "for model in models:\n",
    "  Model_Name = model.__class__.__name__\n",
    "  accuracies = cross_val_score(model, features, labels, scoring='accuracy', cv=CV)\n",
    "  for fold_idx, accuracy in enumerate(accuracies):\n",
    "    entries.append((Model_Name, fold_idx, accuracy))\n",
    "cv_df = pd.DataFrame(entries, columns=['Model_Name', 'fold_idx', 'accuracy'])\n",
    "\n",
    "import seaborn as sns\n",
    "plt.subplots(figsize=(8,5))\n",
    "\n",
    "sns.boxplot(x='Model_Name', y='accuracy', data=cv_df, width=0.8)\n",
    "sns.stripplot(x='Model_Name', y='accuracy', data=cv_df, \n",
    "              size=8, jitter=True, edgecolor=\"gray\", linewidth=2)\n",
    "plt.show()"
   ]
  },
  {
   "cell_type": "code",
   "execution_count": 15,
   "metadata": {},
   "outputs": [
    {
     "data": {
      "text/plain": [
       "Model_Name\n",
       "LinearSVC                 0.836673\n",
       "LogisticRegression        0.800124\n",
       "MultinomialNB             0.761215\n",
       "RandomForestClassifier    0.632330\n",
       "Name: accuracy, dtype: float64"
      ]
     },
     "execution_count": 15,
     "metadata": {},
     "output_type": "execute_result"
    }
   ],
   "source": [
    "cv_df.groupby('Model_Name').accuracy.mean()"
   ]
  },
  {
   "cell_type": "code",
   "execution_count": 16,
   "metadata": {},
   "outputs": [
    {
     "data": {
      "image/png": "[encoded data removed]",
      "text/plain": [
       "<Figure size 432x288 with 2 Axes>"
      ]
     },
     "metadata": {
      "needs_background": "light"
     },
     "output_type": "display_data"
    }
   ],
   "source": [
    "model = LinearSVC()\n",
    "X_train, X_test, y_train, y_test, indices_train, indices_test = train_test_split(features, labels, data.index, test_size=0.25, random_state=0)\n",
    "model.fit(X_train, y_train)\n",
    "y_pred = model.predict(X_test)\n",
    "\n",
    "from sklearn.metrics import confusion_matrix\n",
    "conf_mat = confusion_matrix(y_test, y_pred)\n",
    "fig, ax = plt.subplots(figsize=(6,4))\n",
    "sns.heatmap(conf_mat, annot=True, fmt='d',\n",
    "            xticklabels=Label_id_df.Label.values, yticklabels=Label_id_df.Label.values)\n",
    "plt.ylabel('Actual')\n",
    "plt.xlabel('Predicted')\n",
    "plt.show()"
   ]
  },
  {
   "cell_type": "code",
   "execution_count": 24,
   "metadata": {},
   "outputs": [
    {
     "data": {
      "text/plain": [
       "array(['cold_issue', 'heat_issue', 'cold_issue', 'air_flow1',\n",
       "       'heat_issue', 'cold_issue', 'cold_issue', 'heat_issue',\n",
       "       'cold_issue', 'cold_issue', 'heat_issue', 'cold_issue',\n",
       "       'cold_issue', 'heat_issue', 'heat_issue', 'heat_issue',\n",
       "       'heat_issue', 'heat_issue', 'cold_issue', 'cold_issue',\n",
       "       'cold_issue', 'cold_issue', 'heat_issue', 'cold_issue',\n",
       "       'cold_issue', 'cold_issue', 'cold_issue', 'heat_issue',\n",
       "       'cold_issue', 'cold_issue', 'cold_issue', 'heat_issue',\n",
       "       'cold_issue', 'cold_issue', 'heat_issue', 'cold_issue',\n",
       "       'heat_issue', 'cold_issue', 'cold_issue', 'cold_issue',\n",
       "       'cold_issue', 'heat_issue', 'cold_issue', 'cold_issue',\n",
       "       'heat_issue', 'cold_issue', 'cold_issue', 'heat_issue',\n",
       "       'cold_issue', 'cold_issue', 'cold_issue', 'noise_issue',\n",
       "       'heat_issue', 'cold_issue', 'heat_issue', 'cold_issue',\n",
       "       'cold_issue', 'heat_issue', 'cold_issue', 'cold_issue',\n",
       "       'cold_issue', 'heat_issue', 'cold_issue', 'heat_issue',\n",
       "       'heat_issue', 'heat_issue', 'heat_issue', 'cold_issue',\n",
       "       'air_flow1', 'cold_issue', 'heat_issue', 'cold_issue',\n",
       "       'cold_issue', 'cold_issue', 'heat_issue', 'heat_issue',\n",
       "       'air_flow1', 'cold_issue', 'heat_issue', 'heat_issue',\n",
       "       'heat_issue', 'cold_issue', 'cold_issue', 'heat_issue',\n",
       "       'cold_issue', 'heat_issue', 'heat_issue', 'cold_issue',\n",
       "       'heat_issue', 'heat_issue', 'heat_issue', 'heat_issue',\n",
       "       'heat_issue', 'heat_issue', 'cold_issue', 'heat_issue',\n",
       "       'heat_issue', 'heat_issue', 'heat_issue', 'heat_issue',\n",
       "       'cold_issue', 'cold_issue', 'heat_issue', 'cold_issue',\n",
       "       'heat_issue', 'heat_issue', 'heat_issue', 'heat_issue',\n",
       "       'cold_issue', 'cold_issue', 'heat_issue', 'cold_issue',\n",
       "       'heat_issue', 'heat_issue', 'cold_issue', 'heat_issue',\n",
       "       'heat_issue', 'heat_issue', 'air_flow1', 'cold_issue',\n",
       "       'cold_issue', 'heat_issue', 'heat_issue', 'heat_issue',\n",
       "       'cold_issue', 'cold_issue', 'heat_issue', 'heat_issue',\n",
       "       'heat_issue', 'heat_issue', 'heat_issue', 'heat_issue',\n",
       "       'air_flow1', 'cold_issue', 'air_flow1', 'heat_issue', 'cold_issue',\n",
       "       'air_flow1', 'heat_issue', 'cold_issue', 'heat_issue',\n",
       "       'cold_issue', 'cold_issue', 'air_flow1', 'cold_issue',\n",
       "       'heat_issue', 'cold_issue', 'cold_issue', 'cold_issue',\n",
       "       'cold_issue', 'cold_issue', 'heat_issue', 'cold_issue',\n",
       "       'heat_issue', 'noise_issue', 'heat_issue', 'heat_issue',\n",
       "       'heat_issue', 'cold_issue', 'heat_issue', 'noise_issue',\n",
       "       'heat_issue', 'heat_issue', 'heat_issue', 'heat_issue',\n",
       "       'heat_issue', 'cold_issue', 'heat_issue', 'heat_issue',\n",
       "       'cold_issue', 'heat_issue', 'cold_issue', 'noise_issue',\n",
       "       'cold_issue', 'cold_issue', 'cold_issue', 'heat_issue',\n",
       "       'cold_issue', 'heat_issue', 'cold_issue', 'cold_issue',\n",
       "       'cold_issue', 'cold_issue', 'cold_issue', 'cold_issue',\n",
       "       'cold_issue', 'noise_issue', 'heat_issue', 'cold_issue',\n",
       "       'cold_issue', 'heat_issue', 'cold_issue', 'cold_issue',\n",
       "       'cold_issue', 'cold_issue', 'cold_issue', 'cold_issue',\n",
       "       'heat_issue', 'heat_issue', 'cold_issue', 'cold_issue',\n",
       "       'heat_issue', 'cold_issue', 'cold_issue', 'cold_issue',\n",
       "       'cold_issue', 'cold_issue', 'cold_issue', 'cold_issue',\n",
       "       'heat_issue', 'cold_issue', 'heat_issue', 'cold_issue',\n",
       "       'cold_issue', 'heat_issue', 'cold_issue', 'heat_issue',\n",
       "       'cold_issue', 'cold_issue', 'cold_issue', 'heat_issue',\n",
       "       'cold_issue', 'cold_issue', 'cold_issue', 'cold_issue',\n",
       "       'cold_issue', 'cold_issue', 'air_flow1', 'cold_issue',\n",
       "       'cold_issue', 'cold_issue', 'heat_issue', 'cold_issue',\n",
       "       'cold_issue', 'cold_issue', 'cold_issue', 'cold_issue',\n",
       "       'heat_issue', 'cold_issue', 'cold_issue', 'cold_issue',\n",
       "       'heat_issue', 'cold_issue', 'heat_issue', 'cold_issue',\n",
       "       'cold_issue', 'cold_issue', 'air_flow1', 'cold_issue',\n",
       "       'heat_issue', 'cold_issue', 'cold_issue', 'cold_issue',\n",
       "       'cold_issue', 'cold_issue', 'cold_issue', 'noise_issue',\n",
       "       'noise_issue', 'cold_issue', 'cold_issue', 'cold_issue',\n",
       "       'cold_issue', 'cold_issue', 'air_flow1', 'cold_issue',\n",
       "       'cold_issue', 'cold_issue', 'cold_issue', 'cold_issue',\n",
       "       'cold_issue', 'cold_issue', 'cold_issue', 'heat_issue',\n",
       "       'cold_issue', 'heat_issue', 'cold_issue', 'cold_issue',\n",
       "       'cold_issue', 'cold_issue', 'cold_issue', 'heat_issue',\n",
       "       'air_flow1', 'cold_issue', 'cold_issue', 'cold_issue',\n",
       "       'noise_issue', 'cold_issue', 'cold_issue', 'cold_issue',\n",
       "       'air_flow1', 'cold_issue', 'cold_issue', 'cold_issue',\n",
       "       'heat_issue', 'cold_issue', 'noise_issue', 'cold_issue',\n",
       "       'heat_issue', 'cold_issue', 'cold_issue', 'cold_issue',\n",
       "       'cold_issue', 'cold_issue', 'cold_issue', 'cold_issue',\n",
       "       'cold_issue', 'cold_issue', 'cold_issue', 'cold_issue',\n",
       "       'cold_issue', 'cold_issue', 'cold_issue', 'cold_issue',\n",
       "       'cold_issue', 'noise_issue', 'cold_issue', 'heat_issue',\n",
       "       'cold_issue', 'cold_issue', 'cold_issue', 'cold_issue',\n",
       "       'heat_issue', 'cold_issue', 'cold_issue', 'cold_issue',\n",
       "       'cold_issue', 'cold_issue', 'unit_leaking1', 'cold_issue',\n",
       "       'cold_issue', 'cold_issue', 'cold_issue', 'cold_issue',\n",
       "       'cold_issue', 'heat_issue', 'cold_issue', 'air_flow1',\n",
       "       'cold_issue', 'cold_issue', 'cold_issue', 'cold_issue',\n",
       "       'heat_issue', 'noise_issue', 'heat_issue', 'heat_issue',\n",
       "       'heat_issue', 'cold_issue', 'cold_issue', 'cold_issue',\n",
       "       'cold_issue', 'cold_issue', 'cold_issue', 'heat_issue',\n",
       "       'cold_issue', 'heat_issue', 'cold_issue', 'cold_issue',\n",
       "       'air_flow1', 'heat_issue', 'cold_issue', 'cold_issue',\n",
       "       'cold_issue', 'cold_issue', 'heat_issue', 'cold_issue',\n",
       "       'cold_issue', 'heat_issue', 'cold_issue', 'heat_issue',\n",
       "       'heat_issue', 'heat_issue', 'heat_issue', 'heat_issue',\n",
       "       'air_flow1', 'heat_issue', 'heat_issue', 'cold_issue',\n",
       "       'cold_issue', 'cold_issue', 'cold_issue', 'cold_issue',\n",
       "       'cold_issue', 'heat_issue', 'cold_issue', 'cold_issue',\n",
       "       'heat_issue', 'cold_issue', 'heat_issue', 'heat_issue',\n",
       "       'cold_issue', 'heat_issue', 'cold_issue', 'cold_issue',\n",
       "       'cold_issue', 'heat_issue', 'heat_issue', 'heat_issue',\n",
       "       'cold_issue', 'heat_issue', 'heat_issue', 'cold_issue',\n",
       "       'cold_issue', 'cold_issue', 'cold_issue', 'cold_issue',\n",
       "       'cold_issue', 'cold_issue', 'cold_issue', 'cold_issue',\n",
       "       'cold_issue', 'cold_issue', 'heat_issue', 'cold_issue',\n",
       "       'cold_issue', 'heat_issue', 'cold_issue', 'cold_issue',\n",
       "       'heat_issue', 'heat_issue', 'heat_issue', 'cold_issue',\n",
       "       'cold_issue', 'heat_issue', 'cold_issue', 'cold_issue',\n",
       "       'heat_issue', 'cold_issue', 'cold_issue', 'heat_issue',\n",
       "       'air_flow1', 'cold_issue', 'heat_issue', 'cold_issue',\n",
       "       'cold_issue', 'cold_issue', 'cold_issue', 'cold_issue',\n",
       "       'noise_issue', 'cold_issue', 'cold_issue', 'heat_issue',\n",
       "       'cold_issue', 'cold_issue', 'unit_leaking1', 'cold_issue',\n",
       "       'cold_issue', 'cold_issue', 'heat_issue', 'cold_issue',\n",
       "       'noise_issue', 'cold_issue', 'heat_issue', 'heat_issue',\n",
       "       'cold_issue', 'cold_issue', 'heat_issue', 'noise_issue',\n",
       "       'heat_issue', 'air_flow1', 'cold_issue', 'cold_issue',\n",
       "       'cold_issue', 'cold_issue', 'heat_issue', 'cold_issue',\n",
       "       'heat_issue', 'cold_issue', 'heat_issue', 'noise_issue',\n",
       "       'heat_issue', 'heat_issue', 'cold_issue', 'heat_issue',\n",
       "       'cold_issue', 'cold_issue', 'cold_issue', 'heat_issue',\n",
       "       'heat_issue', 'heat_issue', 'heat_issue', 'cold_issue',\n",
       "       'cold_issue', 'cold_issue', 'noise_issue', 'cold_issue',\n",
       "       'air_flow1', 'cold_issue', 'cold_issue', 'noise_issue',\n",
       "       'cold_issue', 'cold_issue', 'noise_issue', 'cold_issue',\n",
       "       'heat_issue', 'heat_issue', 'cold_issue', 'cold_issue',\n",
       "       'cold_issue', 'heat_issue', 'cold_issue', 'cold_issue',\n",
       "       'cold_issue', 'cold_issue', 'cold_issue', 'cold_issue',\n",
       "       'noise_issue', 'heat_issue', 'cold_issue', 'heat_issue',\n",
       "       'cold_issue', 'cold_issue', 'heat_issue', 'cold_issue',\n",
       "       'heat_issue', 'heat_issue', 'cold_issue', 'heat_issue',\n",
       "       'cold_issue', 'heat_issue', 'cold_issue', 'air_flow1',\n",
       "       'heat_issue', 'cold_issue', 'cold_issue', 'heat_issue',\n",
       "       'cold_issue', 'heat_issue', 'cold_issue', 'cold_issue',\n",
       "       'cold_issue', 'heat_issue', 'cold_issue', 'heat_issue',\n",
       "       'cold_issue', 'cold_issue', 'heat_issue', 'heat_issue',\n",
       "       'heat_issue', 'cold_issue', 'heat_issue', 'cold_issue',\n",
       "       'heat_issue', 'heat_issue', 'noise_issue', 'cold_issue',\n",
       "       'cold_issue', 'air_flow1', 'cold_issue', 'cold_issue',\n",
       "       'cold_issue', 'heat_issue', 'cold_issue', 'heat_issue',\n",
       "       'heat_issue', 'cold_issue', 'cold_issue', 'cold_issue',\n",
       "       'cold_issue', 'cold_issue', 'heat_issue', 'cold_issue',\n",
       "       'cold_issue', 'air_flow1', 'cold_issue', 'heat_issue',\n",
       "       'cold_issue', 'heat_issue', 'cold_issue', 'cold_issue',\n",
       "       'noise_issue', 'noise_issue', 'cold_issue', 'heat_issue',\n",
       "       'heat_issue', 'cold_issue', 'cold_issue', 'cold_issue',\n",
       "       'cold_issue', 'cold_issue', 'cold_issue', 'cold_issue',\n",
       "       'cold_issue', 'air_flow1', 'cold_issue', 'air_flow1', 'heat_issue',\n",
       "       'noise_issue', 'unit_leaking1', 'heat_issue', 'cold_issue',\n",
       "       'cold_issue', 'heat_issue', 'heat_issue', 'heat_issue',\n",
       "       'heat_issue', 'cold_issue', 'heat_issue', 'air_flow1',\n",
       "       'heat_issue', 'heat_issue', 'heat_issue', 'cold_issue',\n",
       "       'cold_issue', 'heat_issue', 'cold_issue', 'heat_issue',\n",
       "       'noise_issue', 'cold_issue', 'cold_issue', 'cold_issue',\n",
       "       'cold_issue', 'cold_issue', 'cold_issue', 'cold_issue',\n",
       "       'cold_issue', 'cold_issue', 'heat_issue', 'heat_issue',\n",
       "       'cold_issue', 'cold_issue', 'cold_issue', 'cold_issue',\n",
       "       'cold_issue', 'cold_issue', 'cold_issue', 'cold_issue',\n",
       "       'cold_issue', 'cold_issue', 'cold_issue', 'noise_issue',\n",
       "       'cold_issue', 'heat_issue', 'cold_issue', 'cold_issue',\n",
       "       'cold_issue', 'heat_issue', 'cold_issue', 'cold_issue',\n",
       "       'cold_issue', 'cold_issue', 'heat_issue', 'noise_issue',\n",
       "       'noise_issue', 'cold_issue', 'heat_issue', 'heat_issue',\n",
       "       'heat_issue', 'heat_issue', 'cold_issue', 'cold_issue',\n",
       "       'heat_issue', 'cold_issue', 'cold_issue', 'heat_issue',\n",
       "       'cold_issue', 'cold_issue', 'cold_issue', 'cold_issue',\n",
       "       'cold_issue', 'heat_issue', 'cold_issue', 'cold_issue',\n",
       "       'air_flow1', 'heat_issue', 'cold_issue', 'heat_issue',\n",
       "       'heat_issue', 'cold_issue', 'cold_issue', 'cold_issue',\n",
       "       'cold_issue', 'heat_issue', 'cold_issue', 'cold_issue',\n",
       "       'cold_issue', 'cold_issue', 'cold_issue', 'cold_issue',\n",
       "       'cold_issue', 'cold_issue', 'cold_issue', 'noise_issue',\n",
       "       'cold_issue', 'cold_issue', 'cold_issue', 'heat_issue',\n",
       "       'cold_issue', 'cold_issue', 'heat_issue', 'cold_issue',\n",
       "       'air_flow1', 'cold_issue', 'noise_issue', 'cold_issue',\n",
       "       'cold_issue', 'heat_issue', 'air_flow1', 'cold_issue',\n",
       "       'heat_issue', 'cold_issue', 'heat_issue', 'air_flow1',\n",
       "       'heat_issue', 'cold_issue', 'cold_issue', 'cold_issue',\n",
       "       'cold_issue', 'cold_issue', 'cold_issue', 'heat_issue',\n",
       "       'cold_issue', 'heat_issue', 'cold_issue', 'heat_issue',\n",
       "       'cold_issue', 'cold_issue', 'cold_issue', 'heat_issue',\n",
       "       'cold_issue', 'cold_issue', 'cold_issue', 'cold_issue',\n",
       "       'cold_issue', 'air_flow1', 'cold_issue', 'cold_issue',\n",
       "       'cold_issue', 'cold_issue', 'cold_issue', 'cold_issue',\n",
       "       'cold_issue', 'noise_issue', 'cold_issue', 'cold_issue',\n",
       "       'cold_issue', 'heat_issue', 'cold_issue', 'cold_issue',\n",
       "       'cold_issue', 'cold_issue', 'heat_issue', 'cold_issue',\n",
       "       'cold_issue', 'cold_issue', 'heat_issue', 'cold_issue',\n",
       "       'noise_issue', 'cold_issue', 'heat_issue', 'heat_issue',\n",
       "       'air_flow1', 'cold_issue', 'cold_issue', 'cold_issue', 'air_flow1',\n",
       "       'cold_issue', 'cold_issue', 'air_flow1', 'cold_issue',\n",
       "       'cold_issue', 'cold_issue', 'cold_issue', 'cold_issue',\n",
       "       'cold_issue', 'cold_issue', 'cold_issue', 'cold_issue',\n",
       "       'heat_issue', 'cold_issue', 'cold_issue', 'cold_issue',\n",
       "       'cold_issue', 'cold_issue', 'cold_issue', 'air_flow1',\n",
       "       'heat_issue', 'cold_issue', 'heat_issue', 'heat_issue',\n",
       "       'cold_issue', 'cold_issue', 'cold_issue', 'cold_issue',\n",
       "       'cold_issue', 'cold_issue', 'cold_issue', 'cold_issue',\n",
       "       'cold_issue', 'cold_issue', 'cold_issue', 'cold_issue',\n",
       "       'heat_issue', 'heat_issue', 'cold_issue', 'cold_issue',\n",
       "       'cold_issue', 'heat_issue', 'heat_issue', 'unit_leaking1',\n",
       "       'heat_issue', 'cold_issue', 'cold_issue', 'cold_issue',\n",
       "       'air_flow1', 'air_flow1', 'heat_issue', 'cold_issue',\n",
       "       'noise_issue', 'cold_issue', 'heat_issue', 'cold_issue',\n",
       "       'cold_issue', 'heat_issue', 'heat_issue', 'cold_issue',\n",
       "       'cold_issue', 'cold_issue', 'heat_issue', 'heat_issue',\n",
       "       'cold_issue', 'cold_issue', 'heat_issue', 'cold_issue',\n",
       "       'heat_issue', 'cold_issue', 'cold_issue', 'heat_issue',\n",
       "       'cold_issue', 'heat_issue', 'cold_issue', 'cold_issue',\n",
       "       'cold_issue', 'heat_issue', 'cold_issue', 'cold_issue',\n",
       "       'cold_issue', 'cold_issue', 'heat_issue', 'cold_issue',\n",
       "       'cold_issue', 'cold_issue', 'heat_issue', 'cold_issue',\n",
       "       'cold_issue', 'cold_issue', 'heat_issue', 'cold_issue',\n",
       "       'cold_issue', 'cold_issue', 'noise_issue', 'cold_issue',\n",
       "       'heat_issue', 'cold_issue', 'cold_issue', 'heat_issue',\n",
       "       'heat_issue', 'cold_issue', 'cold_issue', 'heat_issue',\n",
       "       'cold_issue', 'noise_issue', 'cold_issue', 'cold_issue',\n",
       "       'cold_issue', 'heat_issue', 'cold_issue', 'heat_issue',\n",
       "       'cold_issue', 'cold_issue', 'cold_issue', 'cold_issue',\n",
       "       'heat_issue', 'cold_issue', 'heat_issue', 'cold_issue',\n",
       "       'cold_issue', 'noise_issue', 'cold_issue', 'air_flow1',\n",
       "       'noise_issue', 'cold_issue', 'cold_issue', 'heat_issue',\n",
       "       'heat_issue', 'cold_issue', 'noise_issue', 'cold_issue',\n",
       "       'cold_issue', 'cold_issue', 'cold_issue', 'heat_issue',\n",
       "       'noise_issue', 'cold_issue', 'cold_issue', 'heat_issue',\n",
       "       'cold_issue', 'cold_issue', 'cold_issue', 'cold_issue',\n",
       "       'heat_issue'], dtype=object)"
      ]
     },
     "execution_count": 24,
     "metadata": {},
     "output_type": "execute_result"
    }
   ],
   "source": [
    "data.Label.values"
   ]
  },
  {
   "cell_type": "code",
   "execution_count": 17,
   "metadata": {},
   "outputs": [
    {
     "name": "stderr",
     "output_type": "stream",
     "text": [
      "C:\\Users\\szhang7\\AppData\\Local\\Continuum\\anaconda3\\envs\\py36\\lib\\site-packages\\sklearn\\linear_model\\logistic.py:432: FutureWarning: Default solver will be changed to 'lbfgs' in 0.22. Specify a solver to silence this warning.\n",
      "  FutureWarning)\n",
      "C:\\Users\\szhang7\\AppData\\Local\\Continuum\\anaconda3\\envs\\py36\\lib\\site-packages\\sklearn\\linear_model\\logistic.py:459: FutureWarning: Default multi_class will be changed to 'auto' in 0.22. Specify the multi_class option to silence this warning.\n",
      "  \"this warning.\", FutureWarning)\n"
     ]
    },
    {
     "data": {
      "image/png": "[encoded data removed]",
      "text/plain": [
       "<Figure size 432x288 with 2 Axes>"
      ]
     },
     "metadata": {
      "needs_background": "light"
     },
     "output_type": "display_data"
    }
   ],
   "source": [
    "model = LogisticRegression(random_state=0)\n",
    "X_train, X_test, y_train, y_test, indices_train, indices_test = train_test_split(features, labels, data.index, test_size=0.25, random_state=0)\n",
    "model.fit(X_train, y_train)\n",
    "y_pred = model.predict(X_test)\n",
    "\n",
    "from sklearn.metrics import confusion_matrix\n",
    "conf_mat = confusion_matrix(y_test, y_pred)\n",
    "fig, ax = plt.subplots(figsize=(6,4))\n",
    "sns.heatmap(conf_mat, annot=True, fmt='d',\n",
    "            xticklabels=Label_id_df.Label.values, yticklabels=Label_id_df.Label.values)\n",
    "plt.ylabel('Actual')\n",
    "plt.xlabel('Predicted')\n",
    "plt.show()"
   ]
  },
  {
   "cell_type": "code",
   "execution_count": 18,
   "metadata": {},
   "outputs": [],
   "source": [
    "table = {\"cold_issue\":0, \"heat_issue\":1, \"air_flow1\": 2, \"noise_issue\":3, \"unit_leaking1\": 4}"
   ]
  },
  {
   "cell_type": "code",
   "execution_count": 19,
   "metadata": {},
   "outputs": [
    {
     "ename": "IndexError",
     "evalue": "index 4 is out of bounds for axis 0 with size 4",
     "output_type": "error",
     "traceback": [
      "\u001b[1;31m---------------------------------------------------------------------------\u001b[0m",
      "\u001b[1;31mIndexError\u001b[0m                                Traceback (most recent call last)",
      "\u001b[1;32m<ipython-input-19-98bb29a83108>\u001b[0m in \u001b[0;36m<module>\u001b[1;34m()\u001b[0m\n\u001b[0;32m      2\u001b[0m \u001b[1;32mfor\u001b[0m \u001b[0mpredicted\u001b[0m \u001b[1;32min\u001b[0m \u001b[0mLabel_id_df\u001b[0m\u001b[1;33m.\u001b[0m\u001b[0mLabel\u001b[0m\u001b[1;33m:\u001b[0m\u001b[1;33m\u001b[0m\u001b[0m\n\u001b[0;32m      3\u001b[0m   \u001b[1;32mfor\u001b[0m \u001b[0mactual\u001b[0m \u001b[1;32min\u001b[0m \u001b[0mLabel_id_df\u001b[0m\u001b[1;33m.\u001b[0m\u001b[0mLabel\u001b[0m\u001b[1;33m:\u001b[0m\u001b[1;33m\u001b[0m\u001b[0m\n\u001b[1;32m----> 4\u001b[1;33m         \u001b[1;32mif\u001b[0m \u001b[0mpredicted\u001b[0m \u001b[1;33m!=\u001b[0m \u001b[0mactual\u001b[0m \u001b[1;32mand\u001b[0m \u001b[0mconf_mat\u001b[0m\u001b[1;33m[\u001b[0m\u001b[0mtable\u001b[0m\u001b[1;33m[\u001b[0m\u001b[0mactual\u001b[0m\u001b[1;33m]\u001b[0m\u001b[1;33m,\u001b[0m \u001b[0mtable\u001b[0m\u001b[1;33m[\u001b[0m\u001b[0mpredicted\u001b[0m\u001b[1;33m]\u001b[0m\u001b[1;33m]\u001b[0m \u001b[1;33m>=\u001b[0m \u001b[1;36m1\u001b[0m\u001b[1;33m:\u001b[0m\u001b[1;33m\u001b[0m\u001b[0m\n\u001b[0m\u001b[0;32m      5\u001b[0m           \u001b[0mprint\u001b[0m\u001b[1;33m(\u001b[0m\u001b[1;34m\"'{}' predicted as '{}' : {} examples.\"\u001b[0m\u001b[1;33m.\u001b[0m\u001b[0mformat\u001b[0m\u001b[1;33m(\u001b[0m\u001b[0mid_to_Label\u001b[0m\u001b[1;33m[\u001b[0m\u001b[0mactual\u001b[0m\u001b[1;33m]\u001b[0m\u001b[1;33m,\u001b[0m \u001b[0mid_to_Label\u001b[0m\u001b[1;33m[\u001b[0m\u001b[0mpredicted\u001b[0m\u001b[1;33m]\u001b[0m\u001b[1;33m,\u001b[0m \u001b[0mconf_mat\u001b[0m\u001b[1;33m[\u001b[0m\u001b[0mtable\u001b[0m\u001b[1;33m[\u001b[0m\u001b[0mactual\u001b[0m\u001b[1;33m]\u001b[0m\u001b[1;33m,\u001b[0m \u001b[0mtable\u001b[0m\u001b[1;33m[\u001b[0m\u001b[0mpredicted\u001b[0m\u001b[1;33m]\u001b[0m\u001b[1;33m]\u001b[0m\u001b[1;33m)\u001b[0m\u001b[1;33m)\u001b[0m\u001b[1;33m\u001b[0m\u001b[0m\n\u001b[0;32m      6\u001b[0m           \u001b[0mdisplay\u001b[0m\u001b[1;33m(\u001b[0m\u001b[0mdf\u001b[0m\u001b[1;33m.\u001b[0m\u001b[0mloc\u001b[0m\u001b[1;33m[\u001b[0m\u001b[0mindices_test\u001b[0m\u001b[1;33m[\u001b[0m\u001b[1;33m(\u001b[0m\u001b[0my_test\u001b[0m \u001b[1;33m==\u001b[0m \u001b[0mactual\u001b[0m\u001b[1;33m)\u001b[0m \u001b[1;33m&\u001b[0m \u001b[1;33m(\u001b[0m\u001b[0my_pred\u001b[0m \u001b[1;33m==\u001b[0m \u001b[0mpredicted\u001b[0m\u001b[1;33m)\u001b[0m\u001b[1;33m]\u001b[0m\u001b[1;33m]\u001b[0m\u001b[1;33m[\u001b[0m\u001b[1;33m[\u001b[0m\u001b[1;34m'Label'\u001b[0m\u001b[1;33m,\u001b[0m \u001b[1;34m'Description'\u001b[0m\u001b[1;33m]\u001b[0m\u001b[1;33m]\u001b[0m\u001b[1;33m)\u001b[0m\u001b[1;33m\u001b[0m\u001b[0m\n",
      "\u001b[1;31mIndexError\u001b[0m: index 4 is out of bounds for axis 0 with size 4"
     ]
    }
   ],
   "source": [
    "from IPython.display import display\n",
    "for predicted in Label_id_df.Label:\n",
    "  for actual in Label_id_df.Label:\n",
    "        if predicted != actual and conf_mat[table[actual], table[predicted]] >= 1:\n",
    "          print(\"'{}' predicted as '{}' : {} examples.\".format(id_to_Label[actual], id_to_Label[predicted], conf_mat[table[actual], table[predicted]]))\n",
    "          display(df.loc[indices_test[(y_test == actual) & (y_pred == predicted)]][['Label', 'Description']])\n",
    "          print('')"
   ]
  },
  {
   "cell_type": "code",
   "execution_count": null,
   "metadata": {},
   "outputs": [],
   "source": [
    "# SVM\n",
    "#\n",
    "#"
   ]
  },
  {
   "cell_type": "code",
   "execution_count": null,
   "metadata": {},
   "outputs": [],
   "source": []
  }
 ],
 "metadata": {
  "kernelspec": {
   "display_name": "Python 3",
   "language": "python",
   "name": "python3"
  },
  "language_info": {
   "codemirror_mode": {
    "name": "ipython",
    "version": 3
   },
   "file_extension": ".py",
   "mimetype": "text/x-python",
   "name": "python",
   "nbconvert_exporter": "python",
   "pygments_lexer": "ipython3",
   "version": "3.7.0"
  }
 },
 "nbformat": 4,
 "nbformat_minor": 2
}
